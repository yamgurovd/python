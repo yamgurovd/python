{
 "cells": [
  {
   "cell_type": "code",
   "id": "initial_id",
   "metadata": {
    "collapsed": true,
    "ExecuteTime": {
     "end_time": "2024-11-13T11:07:40.398693Z",
     "start_time": "2024-11-13T11:07:40.394438Z"
    }
   },
   "source": [
    "\"\"\"Упражнение 1.\n",
    "Создайте серию из указанного в программе списка.\n",
    "# Создайте серию.\n",
    "list_in = [1, 2, 3, 4, 5]\n",
    "Результат запишите в переменную series.\"\"\"\n",
    "# Создайте серию.\n",
    "import pandas as pd\n",
    "\n",
    "list_in = [1, 2, 3, 4, 5]\n",
    "series = pd.Series(list_in)\n",
    "print(series)"
   ],
   "outputs": [],
   "execution_count": null
  },
  {
   "metadata": {
    "ExecuteTime": {
     "end_time": "2024-11-13T11:10:32.407352Z",
     "start_time": "2024-11-13T11:10:32.396478Z"
    }
   },
   "cell_type": "code",
   "source": [
    "\"\"\"Упражнение 2.\n",
    "Создайте серию состоящую из 4 строк, значения в строках выберите самостоятельно.\n",
    "\n",
    "Результат запишите в переменную series.\"\"\"\n",
    "import pandas as pd\n",
    "\n",
    "\n",
    "lst = [\"str1\", \"str2\", \"str3\", \"str4\"]\n",
    "series = pd.Series(lst, dtype=\"string\")\n",
    "print(series)"
   ],
   "id": "e8d722a50d1835c9",
   "outputs": [
    {
     "name": "stdout",
     "output_type": "stream",
     "text": [
      "0    str1\n",
      "1    str2\n",
      "2    str3\n",
      "3    str4\n",
      "dtype: string\n"
     ]
    }
   ],
   "execution_count": 11
  },
  {
   "metadata": {},
   "cell_type": "code",
   "outputs": [],
   "execution_count": null,
   "source": [
    "\"\"\"Упражнение 5.\n",
    "На основе указанного словаря dict_in = {'row_1': 1, 'row_2': 2, 'row_3': 3, 'row_4': 4} создайте серию,\n",
    "содержащую только строки row_2 и row_4.\n",
    "\n",
    "Результат запишите в переменную series.\"\"\"\n",
    "import pandas as pd\n",
    "dict_in = {'row_1': 1,\n",
    "           'row_2': 2,\n",
    "           'row_3': 3,\n",
    "           'row_4': 4}\n",
    "\n",
    "series = pd.Series(dict_in, index=['row_2', 'row_4'])\n",
    "print(series)"
   ],
   "id": "cf854627206604f4"
  },
  {
   "metadata": {},
   "cell_type": "code",
   "outputs": [],
   "execution_count": null,
   "source": [
    "\"\"\"Упражнение 7.\n",
    "Создайте DataFrame содержащий 3 столбца и 3 строки.\n",
    "\n",
    "Результат запишите в переменную df.\"\"\"\n",
    "import pandas as pd\n",
    "\n",
    "dict_in = {\n",
    "    \"row_1\": [1, \"test 123\", 11.99],\n",
    "    \"row_2\": [2, \"test 124\", 22.00],\n",
    "    \"row_3\": [3, \"test 125\", 33.11]\n",
    "}\n",
    "df = pd.DataFrame(data=dict_in)\n",
    "print(df)\n",
    "\n",
    "\n",
    "# Решение от Гигачат\n",
    "import pandas as pd\n",
    "\n",
    "# Создаем словарь с данными\n",
    "data = {\n",
    "    'column_1': [1, 2, 3],\n",
    "    'column_2': ['test 123', 'test 124', 'test 125'],\n",
    "    'column_3': [11.99, 22.00, 33.11]\n",
    "}\n",
    "\n",
    "# Создаем DataFrame из словаря\n",
    "df = pd.DataFrame(data)\n",
    "\n",
    "# Выводим DataFrame\n",
    "print(df)"
   ],
   "id": "b09a6419729a8175"
  },
  {
   "metadata": {
    "ExecuteTime": {
     "end_time": "2024-11-13T11:16:39.072167Z",
     "start_time": "2024-11-13T11:16:39.061037Z"
    }
   },
   "cell_type": "code",
   "source": [
    "\"\"\"Упражнение 3.\n",
    "Создайте серию с 5 элементами. Индексы строк должны иметь значение row_1, row_2, row_3, row_4, row_5\n",
    "\n",
    "Результат запишите в переменную series.\"\"\"\n",
    "import pandas as pd\n",
    "\n",
    "lst = {\"row_1\": 1,\n",
    "       \"row_2\": 2,\n",
    "       \"row_3\": 3,\n",
    "       \"row_4\": 4,\n",
    "       \"row_5\": 5}\n",
    "series = pd.Series(data=lst)\n",
    "print(series)"
   ],
   "id": "c13948e1fd893a51",
   "outputs": [
    {
     "name": "stdout",
     "output_type": "stream",
     "text": [
      "row_1    1\n",
      "row_2    2\n",
      "row_3    3\n",
      "row_4    4\n",
      "row_5    5\n",
      "dtype: int64\n"
     ]
    }
   ],
   "execution_count": 12
  },
  {
   "metadata": {
    "ExecuteTime": {
     "end_time": "2024-11-13T12:22:25.529329Z",
     "start_time": "2024-11-13T12:22:25.522860Z"
    }
   },
   "cell_type": "code",
   "source": [
    "\"\"\"Упражнение 4.\n",
    "Создайте серию с 5 элементами и именем(имя придумайте сами).\n",
    "Индексы строк должны иметь значение row_1, row_2, row_3, row_4, row_5.\n",
    "\n",
    "Результат запишите в переменную series.\"\"\"\n",
    "import pandas as pd\n",
    "dct = {\n",
    "\"row_1\": \"test 123\",\n",
    "    \"row_2\": \"test 124\",\n",
    "    \"row_3\": \"test 125\",\n",
    "    \"row_4\": \"test 126\",\n",
    "    \"row_5\": \"test 127\",\n",
    "}\n",
    "series = pd.Series(dct, dtype=\"string\", name=\"series\")\n",
    "print(series)"
   ],
   "id": "b27b3cf221f1087b",
   "outputs": [
    {
     "name": "stdout",
     "output_type": "stream",
     "text": [
      "row_1    test 123\n",
      "row_2    test 124\n",
      "row_3    test 125\n",
      "row_4    test 126\n",
      "row_5    test 127\n",
      "Name: series, dtype: string\n"
     ]
    }
   ],
   "execution_count": 13
  },
  {
   "metadata": {},
   "cell_type": "code",
   "outputs": [],
   "execution_count": null,
   "source": [
    "\"\"\"Упражнение 6.\n",
    "Создайте DataFrame из указанного словаря dict_in = {'col_1': [1, 2, 3], 'col_2': [4, 5, 6]}\n",
    "\n",
    "Результат запишите в переменную df.\"\"\"\n",
    "import pandas as pd\n",
    "\n",
    "dict_in = {'col_1': [1, 2, 3], 'col_2': [4, 5, 6]}\n",
    "\n",
    "df = pd.DataFrame(data=dict_in)\n",
    "print(df)"
   ],
   "id": "cde0bdb2b8d359c5"
  },
  {
   "metadata": {
    "ExecuteTime": {
     "end_time": "2024-11-13T13:06:42.354692Z",
     "start_time": "2024-11-13T13:06:42.349865Z"
    }
   },
   "cell_type": "code",
   "source": [
    "\"\"\"Упражнение 8.\n",
    "Создайте DataFrame содержащий 3 столбца и 3 строки, индексы строк должны иметь следующие имена: row_1, row_2, row_3.\n",
    "\n",
    "Результат запишите в переменную df.\"\"\"\n",
    "import pandas as pd\n",
    "\n",
    "dict_in = {\n",
    "    \"row_1\": [1, \"test 123\", 11.99],\n",
    "    \"row_2\": [2, \"test 124\", 22.00],\n",
    "    \"row_3\": [3, \"test 125\", 33.11]\n",
    "}\n",
    "index_ = ['row_1', 'row_2', 'row_3']\n",
    "df = pd.DataFrame(data=dict_in, index=index_)\n",
    "print(df)"
   ],
   "id": "55c36d6bb6160f95",
   "outputs": [
    {
     "name": "stdout",
     "output_type": "stream",
     "text": [
      "          row_1     row_2     row_3\n",
      "row_1         1         2         3\n",
      "row_2  test 123  test 124  test 125\n",
      "row_3     11.99      22.0     33.11\n"
     ]
    }
   ],
   "execution_count": 14
  },
  {
   "metadata": {},
   "cell_type": "code",
   "outputs": [],
   "execution_count": null,
   "source": [
    "\"\"\"Упражнение 9.\n",
    "dict_in = {'col_1': [1, 2, 3],\n",
    "           'col_2': [4, 5, 6],\n",
    "           'col_3': [7, 8, 9],\n",
    "           'col_4': [10, 11, 12]}\n",
    "На основе данного словаря создайте DataFrame.\n",
    "\n",
    "Результат запишите в переменную df.\"\"\"\n",
    "import pandas as pd\n",
    "dict_in = {'col_1': [1, 2, 3],\n",
    "           'col_2': [4, 5, 6],\n",
    "           'col_3': [7, 8, 9],\n",
    "           'col_4': [10, 11, 12]}\n",
    "\n",
    "df = pd.DataFrame(data=dict_in)\n",
    "print(df)"
   ],
   "id": "1991969904cc59cd"
  },
  {
   "metadata": {
    "ExecuteTime": {
     "end_time": "2024-11-13T13:44:59.372390Z",
     "start_time": "2024-11-13T13:44:59.354944Z"
    }
   },
   "cell_type": "code",
   "source": [
    "\"\"\"Упражнение 10.\n",
    "dict_in = {'col_1': [1, 2, 3],\n",
    "           'col_2': [4, 5, 6],\n",
    "           'col_3': [7, 8, 9],\n",
    "           'col_4': [10, 11, 12]}\n",
    "На основе данного словаря создайте DataFrame состоящий только из col_1 и col_3.\n",
    "\n",
    "Результат запишите в переменную df.\"\"\"\n",
    "import pandas as pd\n",
    "\n",
    "dict_in = {'col_1': [1, 2, 3],\n",
    "           'col_2': [4, 5, 6],\n",
    "           'col_3': [7, 8, 9],\n",
    "           'col_4': [10, 11, 12]}\n",
    "df = pd.DataFrame(data=dict_in, columns=['col_1','col_3'])\n",
    "print(df)"
   ],
   "id": "3807f2b162668be8",
   "outputs": [
    {
     "name": "stdout",
     "output_type": "stream",
     "text": [
      "   col_1  col_3\n",
      "0      1      7\n",
      "1      2      8\n",
      "2      3      9\n"
     ]
    }
   ],
   "execution_count": 15
  },
  {
   "metadata": {},
   "cell_type": "code",
   "outputs": [],
   "execution_count": null,
   "source": [
    "\"\"\"Упражнение 12.\n",
    "В программе созданы две серии и записаны в переменные ser_1 и ser_2.\n",
    "Сформируйте DataFrame с двумя столбцами, имена столбцов col_1 и col_2.\n",
    "Столбец col_1 сформируйте на основе данных из ser_1, а col_2 из ser_2.\n",
    "\n",
    "Результат запишите в переменную df.\n",
    "\n",
    "Примечание: импортировать библиотеку Pandas не нужно, она уже импортирована.\"\"\"\n",
    "import pandas as pd\n",
    "dct = {\n",
    "    \"col_1\": [\"ser_1\"],\n",
    "    \"col_2\": [\"ser_2\"]\n",
    "}\n",
    "df = pd.DataFrame(data=dct)\n",
    "print(df)\n",
    "\n",
    "\n",
    "# Второе решение задачи\n",
    "ser_1 = [1, 2, 3, 4, 5, 6, 7, 8, 9, 10]\n",
    "ser_2 = [\"A\", \"B\", \"C\", \"D\", \"E\", \"F\", \"G\", \"H\", \"I\", \"J\"]\n",
    "len_ser_1 = len(ser_1)\n",
    "len_ser_2 = len(ser_2)\n",
    "\n",
    "# Формируем DataFrame\n",
    "dct = {\n",
    "    \"col_1\": ser_1[:len_ser_1],\n",
    "    \"col_2\": ser_2[:len_ser_2]\n",
    "}\n",
    "\n",
    "df = pd.DataFrame(data=dct)\n",
    "print(df)"
   ],
   "id": "e3b1ed71d7f2066a"
  },
  {
   "metadata": {},
   "cell_type": "markdown",
   "source": "",
   "id": "7eae4c36507ec854"
  }
 ],
 "metadata": {
  "kernelspec": {
   "display_name": "Python 3",
   "language": "python",
   "name": "python3"
  },
  "language_info": {
   "codemirror_mode": {
    "name": "ipython",
    "version": 2
   },
   "file_extension": ".py",
   "mimetype": "text/x-python",
   "name": "python",
   "nbconvert_exporter": "python",
   "pygments_lexer": "ipython2",
   "version": "2.7.6"
  }
 },
 "nbformat": 4,
 "nbformat_minor": 5
}
